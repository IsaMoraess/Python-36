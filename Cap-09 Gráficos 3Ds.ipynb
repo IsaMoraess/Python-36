{
 "cells": [
  {
   "cell_type": "code",
   "execution_count": null,
   "id": "b0e4ae56",
   "metadata": {},
   "outputs": [],
   "source": [
    "from mpl_toolkits.mplot3d.axes3d import Axes3D"
   ]
  },
  {
   "cell_type": "code",
   "execution_count": null,
   "id": "5a672be9",
   "metadata": {},
   "outputs": [],
   "source": [
    "# Dados\n",
    "alpha = 0.7\n",
    "phi_ext = 2 * np.pi * 0.5\n",
    "\n",
    "# Função para um mapa de cores\n",
    "def ColorMap(phi_m, phi_p):\n",
    "    return (+ alpha - 2 * np.cos(phi_p)*cos(phi_m)- alpha * np.cos(phi_ext -2*phi_p))\n",
    "\n",
    "# Mais dados\n",
    "phi_m = np.linspace(0, 2*np.pi, 100)\n",
    "phi_p = np.linspace(0, 2*np.pi, 100)\n",
    "X,Y = np.meshgrid(phi_p, phi_m)\n",
    "Z = ColorMap(X, Y).T"
   ]
  },
  {
   "cell_type": "code",
   "execution_count": null,
   "id": "7b4cf461",
   "metadata": {},
   "outputs": [],
   "source": [
    "# Cria a figura\n",
    "fig = plt.figure(figsize = (14,6))\n",
    "\n",
    "# Adiciona o subplot 1 com projeção 3d\n",
    "ax = fig.add_subplot(1, 2, 1, projection = '3d')\n",
    "p = ax.plot_surface(X, Y, Z,  rstride=1, cstride=1, cmap=cm.coolwarm, linewidth=0, antialiased=False)\n",
    "\n",
    "# Cria barra de cores como legenda\n",
    "cb = fig.colorbar(p, shrink=0.5)"
   ]
  },
  {
   "cell_type": "code",
   "execution_count": null,
   "id": "3b483ca1",
   "metadata": {},
   "outputs": [],
   "source": [
    "# Wire Frame\n",
    "\n",
    "# Cria a figura\n",
    "fig = plt.figure(figsize=(8,6))\n",
    "\n",
    "# Subplot\n",
    "ax = fig.addsubplot(1, 1, 1, projection = '3d')\n",
    "\n",
    "# Wire frame\n",
    "p = ax.plot_wireframe(X, Y, Z, restride=4, cstride=4)"
   ]
  }
 ],
 "metadata": {
  "kernelspec": {
   "display_name": "Python 3 (ipykernel)",
   "language": "python",
   "name": "python3"
  },
  "language_info": {
   "codemirror_mode": {
    "name": "ipython",
    "version": 3
   },
   "file_extension": ".py",
   "mimetype": "text/x-python",
   "name": "python",
   "nbconvert_exporter": "python",
   "pygments_lexer": "ipython3",
   "version": "3.9.13"
  }
 },
 "nbformat": 4,
 "nbformat_minor": 5
}
